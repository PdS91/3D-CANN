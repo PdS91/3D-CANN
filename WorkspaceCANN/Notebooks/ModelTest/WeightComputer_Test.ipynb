{
 "cells": [
  {
   "cell_type": "code",
   "execution_count": 2,
   "metadata": {
    "colab": {
     "base_uri": "https://localhost:8080/",
     "height": 184
    },
    "executionInfo": {
     "elapsed": 345,
     "status": "error",
     "timestamp": 1683559694201,
     "user": {
      "displayName": "Pietro del Sorbo",
      "userId": "01555363494258854793"
     },
     "user_tz": -120
    },
    "id": "a9f3R3VEosiG",
    "outputId": "0923f8ad-33b1-4672-c1d4-955dc51cabaf"
   },
   "outputs": [
    {
     "ename": "FileNotFoundError",
     "evalue": "ignored",
     "output_type": "error",
     "traceback": [
      "\u001b[0;31m---------------------------------------------------------------------------\u001b[0m",
      "\u001b[0;31mFileNotFoundError\u001b[0m                         Traceback (most recent call last)",
      "\u001b[0;32m<ipython-input-2-b68bb3ef7547>\u001b[0m in \u001b[0;36m<cell line: 2>\u001b[0;34m()\u001b[0m\n\u001b[1;32m      1\u001b[0m \u001b[0;32mimport\u001b[0m \u001b[0mos\u001b[0m\u001b[0;34m\u001b[0m\u001b[0;34m\u001b[0m\u001b[0m\n\u001b[0;32m----> 2\u001b[0;31m \u001b[0mos\u001b[0m\u001b[0;34m.\u001b[0m\u001b[0mchdir\u001b[0m\u001b[0;34m(\u001b[0m\u001b[0;34m'drive/MyDrive/ColabNotebooks/CANN_Pietro/Test'\u001b[0m\u001b[0;34m)\u001b[0m\u001b[0;34m\u001b[0m\u001b[0;34m\u001b[0m\u001b[0m\n\u001b[0m",
      "\u001b[0;31mFileNotFoundError\u001b[0m: [Errno 2] No such file or directory: 'drive/MyDrive/ColabNotebooks/CANN_Pietro/Test'"
     ]
    }
   ],
   "source": [
    "import os\n",
    "os.chdir('drive/MyDrive/ColabNotebooks/CANN_Pietro/Test')"
   ]
  },
  {
   "cell_type": "code",
   "execution_count": 3,
   "metadata": {
    "executionInfo": {
     "elapsed": 6688,
     "status": "ok",
     "timestamp": 1683559702884,
     "user": {
      "displayName": "Pietro del Sorbo",
      "userId": "01555363494258854793"
     },
     "user_tz": -120
    },
    "id": "ZITQdzevo7gb"
   },
   "outputs": [],
   "source": [
    "import numpy as np\n",
    "import torch\n",
    "from torch import nn\n",
    "from torch.utils.data import DataLoader\n",
    "from torchvision import datasets\n",
    "from torchvision.transforms import ToTensor"
   ]
  },
  {
   "cell_type": "code",
   "execution_count": 18,
   "metadata": {
    "executionInfo": {
     "elapsed": 294,
     "status": "ok",
     "timestamp": 1683561001222,
     "user": {
      "displayName": "Pietro del Sorbo",
      "userId": "01555363494258854793"
     },
     "user_tz": -120
    },
    "id": "l-a5OlWHo-z-"
   },
   "outputs": [],
   "source": [
    "class WeightComputer(torch.nn.Module):\n",
    "\n",
    "  def __init__(self,J=3, R=5, *args, **kwargs) -> None:\n",
    "      super(WeightComputer,self).__init__(*args, **kwargs)\n",
    "\n",
    "      self.J = J+1\n",
    "      self.R = R\n",
    "\n",
    "      self.main = nn.Sequential(\n",
    "          \n",
    "          nn.Linear(7,2*self.J),\n",
    "          nn.Tanh(),\n",
    "          nn.Linear(2*self.J,2*self.J),\n",
    "          nn.Tanh(),\n",
    "          nn.Linear(2*self.J,self.J*self.R),\n",
    "          nn.Unflatten(1,(self.J,self.R))\n",
    "        \n",
    "      )\n",
    "\n",
    "  def forward(self,f_):\n",
    "\n",
    "    w = self.main(f_)\n",
    "    w = w*w\n",
    "    w_ = nn.functional.normalize(w,dim=1,p=1)\n",
    "\n",
    "    return w_\n"
   ]
  },
  {
   "cell_type": "code",
   "execution_count": 19,
   "metadata": {
    "executionInfo": {
     "elapsed": 9,
     "status": "ok",
     "timestamp": 1683561002254,
     "user": {
      "displayName": "Pietro del Sorbo",
      "userId": "01555363494258854793"
     },
     "user_tz": -120
    },
    "id": "KZvLY8Rpvs4v"
   },
   "outputs": [],
   "source": [
    "model = WeightComputer()\n",
    "f = torch.rand(10,7)"
   ]
  },
  {
   "cell_type": "code",
   "execution_count": 20,
   "metadata": {
    "colab": {
     "base_uri": "https://localhost:8080/"
    },
    "executionInfo": {
     "elapsed": 13,
     "status": "ok",
     "timestamp": 1683561004103,
     "user": {
      "displayName": "Pietro del Sorbo",
      "userId": "01555363494258854793"
     },
     "user_tz": -120
    },
    "id": "AtdTk-zjv7pn",
    "outputId": "3482bdde-4037-47d7-9762-e694e0639a90"
   },
   "outputs": [
    {
     "data": {
      "text/plain": [
       "torch.Size([10, 4, 5])"
      ]
     },
     "execution_count": 20,
     "metadata": {},
     "output_type": "execute_result"
    }
   ],
   "source": [
    "model(f).shape"
   ]
  },
  {
   "cell_type": "code",
   "execution_count": 21,
   "metadata": {
    "colab": {
     "base_uri": "https://localhost:8080/"
    },
    "executionInfo": {
     "elapsed": 12,
     "status": "ok",
     "timestamp": 1683561005383,
     "user": {
      "displayName": "Pietro del Sorbo",
      "userId": "01555363494258854793"
     },
     "user_tz": -120
    },
    "id": "0sohFi6zxz3g",
    "outputId": "7ca3e67d-bdb5-443b-c326-55c1dc6fba64"
   },
   "outputs": [
    {
     "data": {
      "text/plain": [
       "tensor([[2.8679e-01, 9.4934e-01, 2.5324e-01, 9.0647e-01, 4.5638e-03],\n",
       "        [3.1592e-01, 5.2933e-05, 4.4012e-01, 8.7082e-02, 5.5221e-02],\n",
       "        [2.6805e-01, 1.1818e-03, 3.0500e-01, 1.2399e-03, 8.8952e-01],\n",
       "        [1.2924e-01, 4.9427e-02, 1.6416e-03, 5.2059e-03, 5.0691e-02]],\n",
       "       grad_fn=<SelectBackward0>)"
      ]
     },
     "execution_count": 21,
     "metadata": {},
     "output_type": "execute_result"
    }
   ],
   "source": [
    "model(f)[0]"
   ]
  },
  {
   "cell_type": "code",
   "execution_count": 26,
   "metadata": {
    "colab": {
     "base_uri": "https://localhost:8080/"
    },
    "executionInfo": {
     "elapsed": 295,
     "status": "ok",
     "timestamp": 1683561242135,
     "user": {
      "displayName": "Pietro del Sorbo",
      "userId": "01555363494258854793"
     },
     "user_tz": -120
    },
    "id": "C58phPXWzy2x",
    "outputId": "38f7be73-5887-41fc-a64b-c1310270769f"
   },
   "outputs": [
    {
     "data": {
      "text/plain": [
       "tensor([1.0000, 1.0000, 1.0000, 1.0000, 1.0000], grad_fn=<SumBackward1>)"
      ]
     },
     "execution_count": 26,
     "metadata": {},
     "output_type": "execute_result"
    }
   ],
   "source": [
    "torch.sum(model(f)[0],axis=0)"
   ]
  },
  {
   "cell_type": "code",
   "execution_count": null,
   "metadata": {
    "id": "huriqZjd0DMw"
   },
   "outputs": [],
   "source": [
    "pytorch_total_params = sum(p.numel() for p in model.parameters() )"
   ]
  },
  {
   "cell_type": "code",
   "execution_count": null,
   "metadata": {
    "colab": {
     "base_uri": "https://localhost:8080/"
    },
    "executionInfo": {
     "elapsed": 599,
     "status": "ok",
     "timestamp": 1683558228686,
     "user": {
      "displayName": "Pietro del Sorbo",
      "userId": "01555363494258854793"
     },
     "user_tz": -120
    },
    "id": "6dDQSQfQ0ECL",
    "outputId": "696e3a4c-0be1-41ee-8a98-01f85aaf1c0a"
   },
   "outputs": [
    {
     "name": "stdout",
     "output_type": "stream",
     "text": [
      "Parameter containing:\n",
      "tensor([[ 0.0178, -0.3368,  0.1046,  0.3700,  0.2961, -0.0797, -0.3758],\n",
      "        [ 0.1647,  0.1441, -0.2677, -0.0975, -0.2794,  0.1575,  0.0078],\n",
      "        [ 0.0205, -0.3097, -0.2607, -0.3547, -0.1110,  0.0299,  0.0907],\n",
      "        [-0.1895, -0.0152,  0.2531,  0.1955, -0.2843, -0.3723, -0.3280],\n",
      "        [-0.0462, -0.3127,  0.0903, -0.0142, -0.0265,  0.3186,  0.1931],\n",
      "        [-0.0259,  0.3440,  0.1139,  0.0302, -0.0522,  0.0025,  0.2978]],\n",
      "       requires_grad=True)\n",
      "Parameter containing:\n",
      "tensor([-0.3629, -0.0874,  0.1128,  0.2923,  0.3126, -0.1629],\n",
      "       requires_grad=True)\n",
      "Parameter containing:\n",
      "tensor([[ 0.2866,  0.1856,  0.0497, -0.0220, -0.1554,  0.1823],\n",
      "        [ 0.1378, -0.3520,  0.2010, -0.2276,  0.2440, -0.3126],\n",
      "        [ 0.0445, -0.0833, -0.3805,  0.0062, -0.3559, -0.1556],\n",
      "        [ 0.3083, -0.3522, -0.1448, -0.1797,  0.2031,  0.3170],\n",
      "        [-0.2399,  0.1890, -0.3346,  0.3871, -0.2733, -0.1602]],\n",
      "       requires_grad=True)\n",
      "Parameter containing:\n",
      "tensor([-0.1790, -0.2333,  0.0233,  0.3220,  0.3966], requires_grad=True)\n",
      "Parameter containing:\n",
      "tensor([[ 0.0648,  0.0267, -0.1185, -0.3833, -0.1920],\n",
      "        [-0.2362, -0.1360, -0.0585,  0.4433, -0.3536],\n",
      "        [ 0.3416,  0.2166, -0.2890, -0.0819,  0.0089]], requires_grad=True)\n",
      "Parameter containing:\n",
      "tensor([ 0.2112, -0.4365, -0.1480], requires_grad=True)\n"
     ]
    }
   ],
   "source": [
    "for p  in model.parameters():\n",
    "  print(p)"
   ]
  },
  {
   "cell_type": "code",
   "execution_count": null,
   "metadata": {
    "colab": {
     "base_uri": "https://localhost:8080/",
     "height": 166
    },
    "executionInfo": {
     "elapsed": 832,
     "status": "error",
     "timestamp": 1683557105448,
     "user": {
      "displayName": "Pietro del Sorbo",
      "userId": "01555363494258854793"
     },
     "user_tz": -120
    },
    "id": "MDAgD-e20Fu8",
    "outputId": "2e920d48-9dcd-4406-ee47-379789541194"
   },
   "outputs": [
    {
     "ename": "RuntimeError",
     "evalue": "ignored",
     "output_type": "error",
     "traceback": [
      "\u001b[0;31m---------------------------------------------------------------------------\u001b[0m",
      "\u001b[0;31mRuntimeError\u001b[0m                              Traceback (most recent call last)",
      "\u001b[0;32m<ipython-input-31-c7dabb5c36c1>\u001b[0m in \u001b[0;36m<cell line: 1>\u001b[0;34m()\u001b[0m\n\u001b[0;32m----> 1\u001b[0;31m \u001b[0ma\u001b[0m \u001b[0;34m=\u001b[0m \u001b[0mt\u001b[0m\u001b[0;34m.\u001b[0m\u001b[0mrepeat\u001b[0m\u001b[0;34m(\u001b[0m\u001b[0;36m1\u001b[0m\u001b[0;34m,\u001b[0m\u001b[0;36m1\u001b[0m\u001b[0;34m)\u001b[0m\u001b[0;34m\u001b[0m\u001b[0;34m\u001b[0m\u001b[0m\n\u001b[0m",
      "\u001b[0;31mRuntimeError\u001b[0m: Number of dimensions of repeat dims can not be smaller than number of dimensions of tensor"
     ]
    }
   ],
   "source": [
    "a = t.repeat(1,1)"
   ]
  },
  {
   "cell_type": "code",
   "execution_count": null,
   "metadata": {
    "id": "Ono8rYuU0mXx"
   },
   "outputs": [],
   "source": []
  }
 ],
 "metadata": {
  "colab": {
   "authorship_tag": "ABX9TyPUnWT+04/j14rV+ZCFgIAN",
   "provenance": [
    {
     "file_id": "1ydIO7_-px9zgZGiGcU3xKPibTEEpwrQj",
     "timestamp": 1683559031288
    }
   ]
  },
  "kernelspec": {
   "display_name": "Python 3 (ipykernel)",
   "language": "python",
   "name": "python3"
  },
  "language_info": {
   "codemirror_mode": {
    "name": "ipython",
    "version": 3
   },
   "file_extension": ".py",
   "mimetype": "text/x-python",
   "name": "python",
   "nbconvert_exporter": "python",
   "pygments_lexer": "ipython3",
   "version": "3.7.16"
  }
 },
 "nbformat": 4,
 "nbformat_minor": 1
}
