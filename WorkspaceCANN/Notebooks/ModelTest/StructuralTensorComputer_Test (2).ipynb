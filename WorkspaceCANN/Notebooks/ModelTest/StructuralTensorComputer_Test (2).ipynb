{
 "cells": [
  {
   "cell_type": "code",
   "execution_count": 1,
   "metadata": {
    "colab": {
     "base_uri": "https://localhost:8080/"
    },
    "executionInfo": {
     "elapsed": 12521,
     "status": "ok",
     "timestamp": 1683471043140,
     "user": {
      "displayName": "Pietro del Sorbo",
      "userId": "01555363494258854793"
     },
     "user_tz": -120
    },
    "id": "9q_HMW0csQhB",
    "outputId": "74827337-8111-49a1-fcda-3feab3ca6a45"
   },
   "outputs": [
    {
     "name": "stdout",
     "output_type": "stream",
     "text": [
      "Drive already mounted at /content/drive; to attempt to forcibly remount, call drive.mount(\"/content/drive\", force_remount=True).\n"
     ]
    }
   ],
   "source": [
    "from google.colab import drive\n",
    "drive.mount('/content/drive')"
   ]
  },
  {
   "cell_type": "code",
   "execution_count": 2,
   "metadata": {
    "executionInfo": {
     "elapsed": 259,
     "status": "ok",
     "timestamp": 1683471050244,
     "user": {
      "displayName": "Pietro del Sorbo",
      "userId": "01555363494258854793"
     },
     "user_tz": -120
    },
    "id": "9G7O9jdkK4Pu"
   },
   "outputs": [],
   "source": [
    "import os\n",
    "os.chdir('drive/MyDrive/ColabNotebooks/CANN_Pietro/Test')"
   ]
  },
  {
   "cell_type": "code",
   "execution_count": 2,
   "metadata": {
    "executionInfo": {
     "elapsed": 6811,
     "status": "ok",
     "timestamp": 1683553975325,
     "user": {
      "displayName": "Pietro del Sorbo",
      "userId": "01555363494258854793"
     },
     "user_tz": -120
    },
    "id": "JOl3bxpVLDOh"
   },
   "outputs": [],
   "source": [
    "import numpy as np\n",
    "import torch\n",
    "from torch import nn\n",
    "from torch.utils.data import DataLoader\n",
    "from torchvision import datasets\n",
    "from torchvision.transforms import ToTensor"
   ]
  },
  {
   "cell_type": "code",
   "execution_count": 3,
   "metadata": {
    "executionInfo": {
     "elapsed": 58,
     "status": "ok",
     "timestamp": 1683553975326,
     "user": {
      "displayName": "Pietro del Sorbo",
      "userId": "01555363494258854793"
     },
     "user_tz": -120
    },
    "id": "l-6cV1MD3muo"
   },
   "outputs": [],
   "source": [
    "class StructuralTensorComputer(torch.nn.Module):\n",
    "\n",
    "  def __init__(self, Vectorize=True, *args, **kwargs) -> None:\n",
    "      super(StructuralTensorComputer,self).__init__(*args, **kwargs)\n",
    "\n",
    "      self.Vectorize = Vectorize\n",
    "\n",
    "  def forward(self,l_):\n",
    "\n",
    "    if self.Vectorize == True:\n",
    "\n",
    "      L_ = self.L_Computation_Vec(l_)\n",
    "\n",
    "    else:\n",
    "\n",
    "      L_ = self.L_Computation(l_)\n",
    "\n",
    "\n",
    "    return L_\n",
    "\n",
    "\n",
    "  def L_Computation(self, l_):\n",
    "\n",
    "    J = l_.shape[1]\n",
    "    batchsize = l_.shape[0]\n",
    "\n",
    "    L_ = torch.zeros((batchsize,J+1,3,3))\n",
    "\n",
    "    for data_index, l_set in enumerate(l_):\n",
    "\n",
    "      for l_index, l in enumerate(l_set):\n",
    "\n",
    "        L_[data_index,l_index,:,:] = torch.tensordot(l,l,dims=0)\n",
    "\n",
    "      L_[data_index,J,:,:] = torch.eye(3)*1/3\n",
    "\n",
    "    return L_\n",
    "\n",
    "  def L_Computation_Vec(self, l_):\n",
    "\n",
    "    customdot = lambda l : torch.tensordot(l,l,dims=0)\n",
    "\n",
    "    vectorized = torch.vmap(torch.vmap(customdot))\n",
    "\n",
    "    L_ = vectorized(l_)\n",
    "\n",
    "    I = torch.eye(3,3)*1/3\n",
    "    I = I.repeat(l_.shape[0],1)\n",
    "    I = torch.reshape(I,(l_.shape[0],1,3,3))\n",
    "\n",
    "    L_ = torch.cat((L_,I),1)\n",
    "\n",
    "    return L_"
   ]
  },
  {
   "cell_type": "code",
   "execution_count": 79,
   "metadata": {
    "executionInfo": {
     "elapsed": 10,
     "status": "ok",
     "timestamp": 1683478625804,
     "user": {
      "displayName": "Pietro del Sorbo",
      "userId": "01555363494258854793"
     },
     "user_tz": -120
    },
    "id": "f5WdbcMoc2dc"
   },
   "outputs": [],
   "source": [
    "a = torch.rand((10,2,3))"
   ]
  },
  {
   "cell_type": "code",
   "execution_count": 80,
   "metadata": {
    "executionInfo": {
     "elapsed": 13,
     "status": "ok",
     "timestamp": 1683478627019,
     "user": {
      "displayName": "Pietro del Sorbo",
      "userId": "01555363494258854793"
     },
     "user_tz": -120
    },
    "id": "Zhx5gsCid0S0"
   },
   "outputs": [],
   "source": [
    "model2=StructuralTensorComputer()\n"
   ]
  },
  {
   "cell_type": "code",
   "execution_count": 81,
   "metadata": {
    "colab": {
     "base_uri": "https://localhost:8080/"
    },
    "executionInfo": {
     "elapsed": 13,
     "status": "ok",
     "timestamp": 1683478628590,
     "user": {
      "displayName": "Pietro del Sorbo",
      "userId": "01555363494258854793"
     },
     "user_tz": -120
    },
    "id": "13xunnZNd4mq",
    "outputId": "463818b2-e79e-43b8-c018-2e06f9f56713"
   },
   "outputs": [
    {
     "data": {
      "text/plain": [
       "tensor([[[[1.7449e-01, 4.2507e-02, 8.5080e-03],\n",
       "          [4.2507e-02, 1.0355e-02, 2.0726e-03],\n",
       "          [8.5080e-03, 2.0726e-03, 4.1484e-04]],\n",
       "\n",
       "         [[4.1948e-01, 4.9848e-01, 1.2393e-01],\n",
       "          [4.9848e-01, 5.9236e-01, 1.4727e-01],\n",
       "          [1.2393e-01, 1.4727e-01, 3.6612e-02]],\n",
       "\n",
       "         [[3.3333e-01, 0.0000e+00, 0.0000e+00],\n",
       "          [0.0000e+00, 3.3333e-01, 0.0000e+00],\n",
       "          [0.0000e+00, 0.0000e+00, 3.3333e-01]]],\n",
       "\n",
       "\n",
       "        [[[9.4432e-01, 1.0007e-01, 9.5743e-01],\n",
       "          [1.0007e-01, 1.0605e-02, 1.0146e-01],\n",
       "          [9.5743e-01, 1.0146e-01, 9.7072e-01]],\n",
       "\n",
       "         [[7.9144e-01, 1.5435e-01, 1.3100e-01],\n",
       "          [1.5435e-01, 3.0101e-02, 2.5548e-02],\n",
       "          [1.3100e-01, 2.5548e-02, 2.1684e-02]],\n",
       "\n",
       "         [[3.3333e-01, 0.0000e+00, 0.0000e+00],\n",
       "          [0.0000e+00, 3.3333e-01, 0.0000e+00],\n",
       "          [0.0000e+00, 0.0000e+00, 3.3333e-01]]],\n",
       "\n",
       "\n",
       "        [[[9.6725e-01, 4.3285e-01, 3.2898e-02],\n",
       "          [4.3285e-01, 1.9370e-01, 1.4722e-02],\n",
       "          [3.2898e-02, 1.4722e-02, 1.1189e-03]],\n",
       "\n",
       "         [[9.9641e-01, 1.9844e-01, 3.2537e-01],\n",
       "          [1.9844e-01, 3.9518e-02, 6.4799e-02],\n",
       "          [3.2537e-01, 6.4799e-02, 1.0625e-01]],\n",
       "\n",
       "         [[3.3333e-01, 0.0000e+00, 0.0000e+00],\n",
       "          [0.0000e+00, 3.3333e-01, 0.0000e+00],\n",
       "          [0.0000e+00, 0.0000e+00, 3.3333e-01]]],\n",
       "\n",
       "\n",
       "        [[[3.6155e-04, 1.8374e-02, 6.5174e-04],\n",
       "          [1.8374e-02, 9.3371e-01, 3.3120e-02],\n",
       "          [6.5174e-04, 3.3120e-02, 1.1748e-03]],\n",
       "\n",
       "         [[9.5851e-01, 9.6844e-01, 8.7148e-01],\n",
       "          [9.6844e-01, 9.7847e-01, 8.8050e-01],\n",
       "          [8.7148e-01, 8.8050e-01, 7.9235e-01]],\n",
       "\n",
       "         [[3.3333e-01, 0.0000e+00, 0.0000e+00],\n",
       "          [0.0000e+00, 3.3333e-01, 0.0000e+00],\n",
       "          [0.0000e+00, 0.0000e+00, 3.3333e-01]]],\n",
       "\n",
       "\n",
       "        [[[1.5070e-02, 2.7497e-02, 1.1237e-01],\n",
       "          [2.7497e-02, 5.0171e-02, 2.0504e-01],\n",
       "          [1.1237e-01, 2.0504e-01, 8.3794e-01]],\n",
       "\n",
       "         [[9.5768e-03, 9.2505e-02, 4.9004e-02],\n",
       "          [9.2505e-02, 8.9353e-01, 4.7334e-01],\n",
       "          [4.9004e-02, 4.7334e-01, 2.5075e-01]],\n",
       "\n",
       "         [[3.3333e-01, 0.0000e+00, 0.0000e+00],\n",
       "          [0.0000e+00, 3.3333e-01, 0.0000e+00],\n",
       "          [0.0000e+00, 0.0000e+00, 3.3333e-01]]],\n",
       "\n",
       "\n",
       "        [[[9.5166e-01, 9.3502e-01, 4.3323e-01],\n",
       "          [9.3502e-01, 9.1867e-01, 4.2565e-01],\n",
       "          [4.3323e-01, 4.2565e-01, 1.9722e-01]],\n",
       "\n",
       "         [[6.1991e-01, 7.0949e-01, 7.4290e-01],\n",
       "          [7.0949e-01, 8.1202e-01, 8.5025e-01],\n",
       "          [7.4290e-01, 8.5025e-01, 8.9028e-01]],\n",
       "\n",
       "         [[3.3333e-01, 0.0000e+00, 0.0000e+00],\n",
       "          [0.0000e+00, 3.3333e-01, 0.0000e+00],\n",
       "          [0.0000e+00, 0.0000e+00, 3.3333e-01]]],\n",
       "\n",
       "\n",
       "        [[[6.7044e-01, 5.7048e-02, 3.1365e-01],\n",
       "          [5.7048e-02, 4.8542e-03, 2.6689e-02],\n",
       "          [3.1365e-01, 2.6689e-02, 1.4673e-01]],\n",
       "\n",
       "         [[9.8304e-01, 8.2028e-01, 1.7794e-01],\n",
       "          [8.2028e-01, 6.8447e-01, 1.4848e-01],\n",
       "          [1.7794e-01, 1.4848e-01, 3.2208e-02]],\n",
       "\n",
       "         [[3.3333e-01, 0.0000e+00, 0.0000e+00],\n",
       "          [0.0000e+00, 3.3333e-01, 0.0000e+00],\n",
       "          [0.0000e+00, 0.0000e+00, 3.3333e-01]]],\n",
       "\n",
       "\n",
       "        [[[3.1127e-01, 5.3636e-01, 4.6596e-01],\n",
       "          [5.3636e-01, 9.2420e-01, 8.0290e-01],\n",
       "          [4.6596e-01, 8.0290e-01, 6.9753e-01]],\n",
       "\n",
       "         [[3.2283e-03, 1.8887e-02, 7.9455e-04],\n",
       "          [1.8887e-02, 1.1050e-01, 4.6485e-03],\n",
       "          [7.9455e-04, 4.6485e-03, 1.9556e-04]],\n",
       "\n",
       "         [[3.3333e-01, 0.0000e+00, 0.0000e+00],\n",
       "          [0.0000e+00, 3.3333e-01, 0.0000e+00],\n",
       "          [0.0000e+00, 0.0000e+00, 3.3333e-01]]],\n",
       "\n",
       "\n",
       "        [[[3.2861e-01, 6.9615e-02, 4.7253e-01],\n",
       "          [6.9615e-02, 1.4748e-02, 1.0010e-01],\n",
       "          [4.7253e-01, 1.0010e-01, 6.7947e-01]],\n",
       "\n",
       "         [[2.4455e-02, 4.2822e-02, 9.7419e-02],\n",
       "          [4.2822e-02, 7.4985e-02, 1.7059e-01],\n",
       "          [9.7419e-02, 1.7059e-01, 3.8808e-01]],\n",
       "\n",
       "         [[3.3333e-01, 0.0000e+00, 0.0000e+00],\n",
       "          [0.0000e+00, 3.3333e-01, 0.0000e+00],\n",
       "          [0.0000e+00, 0.0000e+00, 3.3333e-01]]],\n",
       "\n",
       "\n",
       "        [[[2.1590e-01, 2.7028e-01, 4.5736e-01],\n",
       "          [2.7028e-01, 3.3836e-01, 5.7256e-01],\n",
       "          [4.5736e-01, 5.7256e-01, 9.6887e-01]],\n",
       "\n",
       "         [[4.4948e-01, 2.8905e-01, 5.6939e-01],\n",
       "          [2.8905e-01, 1.8589e-01, 3.6617e-01],\n",
       "          [5.6939e-01, 3.6617e-01, 7.2129e-01]],\n",
       "\n",
       "         [[3.3333e-01, 0.0000e+00, 0.0000e+00],\n",
       "          [0.0000e+00, 3.3333e-01, 0.0000e+00],\n",
       "          [0.0000e+00, 0.0000e+00, 3.3333e-01]]]])"
      ]
     },
     "execution_count": 81,
     "metadata": {},
     "output_type": "execute_result"
    }
   ],
   "source": [
    "model2(a)"
   ]
  },
  {
   "cell_type": "code",
   "execution_count": 82,
   "metadata": {
    "colab": {
     "base_uri": "https://localhost:8080/"
    },
    "executionInfo": {
     "elapsed": 13,
     "status": "ok",
     "timestamp": 1683478630333,
     "user": {
      "displayName": "Pietro del Sorbo",
      "userId": "01555363494258854793"
     },
     "user_tz": -120
    },
    "id": "L4CX4k93d-zP",
    "outputId": "b9d665ea-29b6-4b5c-9420-effc36b18b4e"
   },
   "outputs": [
    {
     "data": {
      "text/plain": [
       "torch.Size([10, 2, 3])"
      ]
     },
     "execution_count": 82,
     "metadata": {},
     "output_type": "execute_result"
    }
   ],
   "source": [
    "a.shape"
   ]
  },
  {
   "cell_type": "code",
   "execution_count": 83,
   "metadata": {
    "colab": {
     "base_uri": "https://localhost:8080/"
    },
    "executionInfo": {
     "elapsed": 834,
     "status": "ok",
     "timestamp": 1683478632406,
     "user": {
      "displayName": "Pietro del Sorbo",
      "userId": "01555363494258854793"
     },
     "user_tz": -120
    },
    "id": "SsAHwzbheCqn",
    "outputId": "6727d2be-e0fc-4409-ef1c-7d0a5b31b211"
   },
   "outputs": [
    {
     "data": {
      "text/plain": [
       "tensor([[0.4177, 0.1018, 0.0204],\n",
       "        [0.6477, 0.7696, 0.1913]])"
      ]
     },
     "execution_count": 83,
     "metadata": {},
     "output_type": "execute_result"
    }
   ],
   "source": [
    "a[0]"
   ]
  },
  {
   "cell_type": "code",
   "execution_count": 84,
   "metadata": {
    "colab": {
     "base_uri": "https://localhost:8080/"
    },
    "executionInfo": {
     "elapsed": 17,
     "status": "ok",
     "timestamp": 1683478633669,
     "user": {
      "displayName": "Pietro del Sorbo",
      "userId": "01555363494258854793"
     },
     "user_tz": -120
    },
    "id": "eFNNQXbueFgU",
    "outputId": "d71d083d-bf27-4a55-b215-d08d819bb35c"
   },
   "outputs": [
    {
     "data": {
      "text/plain": [
       "tensor([[[1.7449e-01, 4.2507e-02, 8.5080e-03],\n",
       "         [4.2507e-02, 1.0355e-02, 2.0726e-03],\n",
       "         [8.5080e-03, 2.0726e-03, 4.1484e-04]],\n",
       "\n",
       "        [[4.1948e-01, 4.9848e-01, 1.2393e-01],\n",
       "         [4.9848e-01, 5.9236e-01, 1.4727e-01],\n",
       "         [1.2393e-01, 1.4727e-01, 3.6612e-02]],\n",
       "\n",
       "        [[3.3333e-01, 0.0000e+00, 0.0000e+00],\n",
       "         [0.0000e+00, 3.3333e-01, 0.0000e+00],\n",
       "         [0.0000e+00, 0.0000e+00, 3.3333e-01]]])"
      ]
     },
     "execution_count": 84,
     "metadata": {},
     "output_type": "execute_result"
    }
   ],
   "source": [
    "model2(a)[0]"
   ]
  },
  {
   "cell_type": "code",
   "execution_count": 86,
   "metadata": {
    "colab": {
     "base_uri": "https://localhost:8080/"
    },
    "executionInfo": {
     "elapsed": 493,
     "status": "ok",
     "timestamp": 1683478678151,
     "user": {
      "displayName": "Pietro del Sorbo",
      "userId": "01555363494258854793"
     },
     "user_tz": -120
    },
    "id": "teer31w-eIW-",
    "outputId": "b23e446e-cf99-4d97-ad7a-6d0ecbd4b23d"
   },
   "outputs": [
    {
     "data": {
      "text/plain": [
       "tensor(0.0085)"
      ]
     },
     "execution_count": 86,
     "metadata": {},
     "output_type": "execute_result"
    }
   ],
   "source": [
    "a[0,0,0]*a[0,0,2]"
   ]
  },
  {
   "cell_type": "code",
   "execution_count": null,
   "metadata": {
    "colab": {
     "base_uri": "https://localhost:8080/"
    },
    "executionInfo": {
     "elapsed": 279,
     "status": "ok",
     "timestamp": 1682953494126,
     "user": {
      "displayName": "Pietro del Sorbo",
      "userId": "01555363494258854793"
     },
     "user_tz": -120
    },
    "id": "iC8O0um3en2f",
    "outputId": "f92abdd2-3375-4b77-92d8-c78d5bddb179"
   },
   "outputs": [
    {
     "data": {
      "text/plain": [
       "torch.Size([10, 2, 3])"
      ]
     },
     "execution_count": 6,
     "metadata": {},
     "output_type": "execute_result"
    }
   ],
   "source": [
    "a.shape"
   ]
  },
  {
   "cell_type": "code",
   "execution_count": 25,
   "metadata": {
    "colab": {
     "base_uri": "https://localhost:8080/"
    },
    "executionInfo": {
     "elapsed": 621,
     "status": "ok",
     "timestamp": 1683476127097,
     "user": {
      "displayName": "Pietro del Sorbo",
      "userId": "01555363494258854793"
     },
     "user_tz": -120
    },
    "id": "aYIpNIiZe1cq",
    "outputId": "465a242b-ce35-486a-d912-c0deba67baf0"
   },
   "outputs": [
    {
     "data": {
      "text/plain": [
       "torch.Size([10, 2, 3, 2, 3])"
      ]
     },
     "execution_count": 25,
     "metadata": {},
     "output_type": "execute_result"
    }
   ],
   "source": [
    "model2(a).shape"
   ]
  },
  {
   "cell_type": "code",
   "execution_count": 67,
   "metadata": {
    "executionInfo": {
     "elapsed": 1318,
     "status": "ok",
     "timestamp": 1683478565531,
     "user": {
      "displayName": "Pietro del Sorbo",
      "userId": "01555363494258854793"
     },
     "user_tz": -120
    },
    "id": "DuGoPrUGe406"
   },
   "outputs": [],
   "source": [
    "t = torch.eye(3,3)*1/3"
   ]
  },
  {
   "cell_type": "code",
   "execution_count": 68,
   "metadata": {
    "executionInfo": {
     "elapsed": 752,
     "status": "ok",
     "timestamp": 1683478567942,
     "user": {
      "displayName": "Pietro del Sorbo",
      "userId": "01555363494258854793"
     },
     "user_tz": -120
    },
    "id": "V6waxBREFuJT"
   },
   "outputs": [],
   "source": [
    "a = t.repeat(4,1)"
   ]
  },
  {
   "cell_type": "code",
   "execution_count": 69,
   "metadata": {
    "colab": {
     "base_uri": "https://localhost:8080/"
    },
    "executionInfo": {
     "elapsed": 267,
     "status": "ok",
     "timestamp": 1683478573170,
     "user": {
      "displayName": "Pietro del Sorbo",
      "userId": "01555363494258854793"
     },
     "user_tz": -120
    },
    "id": "0xlI1ZMIF0oD",
    "outputId": "20b4cf54-97d6-4bae-a50f-7eb77ccfb81a"
   },
   "outputs": [
    {
     "data": {
      "text/plain": [
       "tensor([[[[0.3333, 0.0000, 0.0000],\n",
       "          [0.0000, 0.3333, 0.0000],\n",
       "          [0.0000, 0.0000, 0.3333]]],\n",
       "\n",
       "\n",
       "        [[[0.3333, 0.0000, 0.0000],\n",
       "          [0.0000, 0.3333, 0.0000],\n",
       "          [0.0000, 0.0000, 0.3333]]],\n",
       "\n",
       "\n",
       "        [[[0.3333, 0.0000, 0.0000],\n",
       "          [0.0000, 0.3333, 0.0000],\n",
       "          [0.0000, 0.0000, 0.3333]]],\n",
       "\n",
       "\n",
       "        [[[0.3333, 0.0000, 0.0000],\n",
       "          [0.0000, 0.3333, 0.0000],\n",
       "          [0.0000, 0.0000, 0.3333]]]])"
      ]
     },
     "execution_count": 69,
     "metadata": {},
     "output_type": "execute_result"
    }
   ],
   "source": [
    "torch.reshape(a,(4,1,3,3))"
   ]
  },
  {
   "cell_type": "code",
   "execution_count": null,
   "metadata": {
    "id": "SxNksxI6Hsb4"
   },
   "outputs": [],
   "source": []
  }
 ],
 "metadata": {
  "colab": {
   "authorship_tag": "ABX9TyNuyYeYsDPY6MEov65AIguj",
   "mount_file_id": "13yFaKYIDlV3LoUoj9LvmPNKyIm5R04fE",
   "provenance": []
  },
  "kernelspec": {
   "display_name": "Python 3 (ipykernel)",
   "language": "python",
   "name": "python3"
  },
  "language_info": {
   "codemirror_mode": {
    "name": "ipython",
    "version": 3
   },
   "file_extension": ".py",
   "mimetype": "text/x-python",
   "name": "python",
   "nbconvert_exporter": "python",
   "pygments_lexer": "ipython3",
   "version": "3.7.16"
  }
 },
 "nbformat": 4,
 "nbformat_minor": 1
}
