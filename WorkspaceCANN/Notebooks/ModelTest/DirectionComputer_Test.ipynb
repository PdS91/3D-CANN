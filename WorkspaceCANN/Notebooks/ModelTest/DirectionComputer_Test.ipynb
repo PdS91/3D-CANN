{
 "cells": [
  {
   "cell_type": "code",
   "execution_count": 1,
   "metadata": {
    "colab": {
     "base_uri": "https://localhost:8080/",
     "height": 184
    },
    "executionInfo": {
     "elapsed": 23,
     "status": "error",
     "timestamp": 1683982552826,
     "user": {
      "displayName": "Pietro del Sorbo",
      "userId": "01555363494258854793"
     },
     "user_tz": -120
    },
    "id": "a9f3R3VEosiG",
    "outputId": "6d49cb9c-206c-4e46-98de-16b7e3a2e78d"
   },
   "outputs": [
    {
     "ename": "FileNotFoundError",
     "evalue": "ignored",
     "output_type": "error",
     "traceback": [
      "\u001b[0;31m---------------------------------------------------------------------------\u001b[0m",
      "\u001b[0;31mFileNotFoundError\u001b[0m                         Traceback (most recent call last)",
      "\u001b[0;32m<ipython-input-1-b68bb3ef7547>\u001b[0m in \u001b[0;36m<cell line: 2>\u001b[0;34m()\u001b[0m\n\u001b[1;32m      1\u001b[0m \u001b[0;32mimport\u001b[0m \u001b[0mos\u001b[0m\u001b[0;34m\u001b[0m\u001b[0;34m\u001b[0m\u001b[0m\n\u001b[0;32m----> 2\u001b[0;31m \u001b[0mos\u001b[0m\u001b[0;34m.\u001b[0m\u001b[0mchdir\u001b[0m\u001b[0;34m(\u001b[0m\u001b[0;34m'drive/MyDrive/ColabNotebooks/CANN_Pietro/Test'\u001b[0m\u001b[0;34m)\u001b[0m\u001b[0;34m\u001b[0m\u001b[0;34m\u001b[0m\u001b[0m\n\u001b[0m",
      "\u001b[0;31mFileNotFoundError\u001b[0m: [Errno 2] No such file or directory: 'drive/MyDrive/ColabNotebooks/CANN_Pietro/Test'"
     ]
    }
   ],
   "source": [
    "import os\n",
    "os.chdir('drive/MyDrive/ColabNotebooks/CANN_Pietro/Test')"
   ]
  },
  {
   "cell_type": "code",
   "execution_count": 1,
   "metadata": {
    "id": "ZITQdzevo7gb"
   },
   "outputs": [],
   "source": [
    "import numpy as np\n",
    "import torch\n",
    "from torch import nn\n",
    "from torch.utils.data import DataLoader\n",
    "from torchvision import datasets\n",
    "from torchvision.transforms import ToTensor"
   ]
  },
  {
   "cell_type": "code",
   "execution_count": 2,
   "metadata": {
    "id": "l-a5OlWHo-z-"
   },
   "outputs": [],
   "source": [
    "class DirectionComputer(torch.nn.Module):\n",
    "\n",
    "  def __init__(self,J=3, *args, **kwargs) -> None:\n",
    "      super(DirectionComputer,self).__init__(*args, **kwargs)\n",
    "\n",
    "      self.J = J\n",
    "\n",
    "      self.main = nn.Sequential(\n",
    "          \n",
    "          nn.Linear(7,2*self.J),\n",
    "          nn.Tanh(),\n",
    "          nn.Linear(2*self.J,2*self.J),\n",
    "          nn.Tanh(),\n",
    "          nn.Linear(2*self.J,3*self.J),\n",
    "          nn.Unflatten(1,(self.J,3))\n",
    "        \n",
    "      )\n",
    "\n",
    "  def forward(self,f_):\n",
    "\n",
    "    l_ = self.main(f_)\n",
    "    l_ = nn.functional.normalize(l_,dim=2)\n",
    "\n",
    "    return l_\n"
   ]
  },
  {
   "cell_type": "code",
   "execution_count": 6,
   "metadata": {
    "id": "KZvLY8Rpvs4v"
   },
   "outputs": [],
   "source": [
    "model = DirectionComputer(J=5)\n",
    "f = torch.rand(10,7)"
   ]
  },
  {
   "cell_type": "code",
   "execution_count": 7,
   "metadata": {
    "colab": {
     "base_uri": "https://localhost:8080/"
    },
    "executionInfo": {
     "elapsed": 12,
     "status": "ok",
     "timestamp": 1683558937185,
     "user": {
      "displayName": "Pietro del Sorbo",
      "userId": "01555363494258854793"
     },
     "user_tz": -120
    },
    "id": "AtdTk-zjv7pn",
    "outputId": "31caf306-f601-4370-b388-5c46280fe685"
   },
   "outputs": [
    {
     "data": {
      "text/plain": [
       "torch.Size([10, 5, 3])"
      ]
     },
     "execution_count": 7,
     "metadata": {},
     "output_type": "execute_result"
    }
   ],
   "source": [
    "model(f).shape"
   ]
  },
  {
   "cell_type": "code",
   "execution_count": 8,
   "metadata": {
    "colab": {
     "base_uri": "https://localhost:8080/"
    },
    "executionInfo": {
     "elapsed": 727,
     "status": "ok",
     "timestamp": 1683558941381,
     "user": {
      "displayName": "Pietro del Sorbo",
      "userId": "01555363494258854793"
     },
     "user_tz": -120
    },
    "id": "0sohFi6zxz3g",
    "outputId": "317cede6-dc82-4dcd-c801-2fb470f7206c"
   },
   "outputs": [
    {
     "data": {
      "text/plain": [
       "tensor([[-0.2206, -0.7288,  0.6482],\n",
       "        [ 0.8522, -0.3577, -0.3817],\n",
       "        [ 0.3796, -0.5504, -0.7436],\n",
       "        [-0.8001, -0.5870,  0.1237],\n",
       "        [ 0.3739, -0.7898,  0.4862]], grad_fn=<SelectBackward0>)"
      ]
     },
     "execution_count": 8,
     "metadata": {},
     "output_type": "execute_result"
    }
   ],
   "source": [
    "model(f)[0]"
   ]
  },
  {
   "cell_type": "code",
   "execution_count": 10,
   "metadata": {
    "colab": {
     "base_uri": "https://localhost:8080/"
    },
    "executionInfo": {
     "elapsed": 268,
     "status": "ok",
     "timestamp": 1683558944041,
     "user": {
      "displayName": "Pietro del Sorbo",
      "userId": "01555363494258854793"
     },
     "user_tz": -120
    },
    "id": "C58phPXWzy2x",
    "outputId": "21107a7a-c312-41e0-e32f-2998d17d1af4"
   },
   "outputs": [
    {
     "data": {
      "text/plain": [
       "tensor(1.0000, grad_fn=<DotBackward0>)"
      ]
     },
     "execution_count": 10,
     "metadata": {},
     "output_type": "execute_result"
    }
   ],
   "source": [
    "torch.dot(model(f)[1,0],model(f)[1,0])"
   ]
  },
  {
   "cell_type": "code",
   "execution_count": 11,
   "metadata": {
    "id": "huriqZjd0DMw"
   },
   "outputs": [],
   "source": [
    "pytorch_total_params = sum(p.numel() for p in model.parameters() )"
   ]
  },
  {
   "cell_type": "code",
   "execution_count": 12,
   "metadata": {
    "colab": {
     "base_uri": "https://localhost:8080/"
    },
    "executionInfo": {
     "elapsed": 599,
     "status": "ok",
     "timestamp": 1683558228686,
     "user": {
      "displayName": "Pietro del Sorbo",
      "userId": "01555363494258854793"
     },
     "user_tz": -120
    },
    "id": "6dDQSQfQ0ECL",
    "outputId": "696e3a4c-0be1-41ee-8a98-01f85aaf1c0a"
   },
   "outputs": [
    {
     "name": "stdout",
     "output_type": "stream",
     "text": [
      "Parameter containing:\n",
      "tensor([[-0.0426,  0.0448,  0.2732, -0.2128, -0.0314, -0.3518, -0.0363],\n",
      "        [ 0.2952, -0.1646, -0.2155, -0.3557,  0.1608,  0.1221,  0.1907],\n",
      "        [ 0.3020, -0.1921, -0.2050, -0.2742,  0.3016,  0.2283,  0.0473],\n",
      "        [ 0.2002, -0.0054,  0.0965,  0.0110,  0.1266, -0.3401,  0.0802],\n",
      "        [ 0.0978, -0.2233,  0.3490, -0.2380, -0.0226,  0.1760,  0.0893],\n",
      "        [ 0.1700, -0.0428, -0.3170, -0.1283,  0.0702,  0.2180, -0.2935],\n",
      "        [ 0.2898, -0.1043,  0.1357,  0.1509, -0.2859, -0.0425,  0.3305],\n",
      "        [ 0.0533,  0.1895,  0.3732,  0.1228,  0.3198, -0.1774,  0.3537],\n",
      "        [-0.3461, -0.0038,  0.0170, -0.2271, -0.3149,  0.0874, -0.1829],\n",
      "        [-0.2659, -0.3156, -0.1318, -0.1098, -0.2678,  0.1483, -0.1723]],\n",
      "       requires_grad=True)\n",
      "Parameter containing:\n",
      "tensor([-0.1453,  0.1500, -0.0608, -0.0312,  0.1623,  0.2644, -0.2931, -0.1243,\n",
      "        -0.1543,  0.3009], requires_grad=True)\n",
      "Parameter containing:\n",
      "tensor([[-5.4656e-02,  2.5222e-01,  1.5951e-01, -3.8200e-02, -1.6934e-01,\n",
      "          2.1388e-01,  2.3782e-01, -2.5550e-01,  4.7026e-02, -9.4882e-02],\n",
      "        [ 2.6586e-02, -5.8050e-02, -1.7316e-02, -4.4833e-02,  2.7422e-01,\n",
      "         -2.3445e-01,  1.5385e-01,  2.9039e-04,  9.2842e-02,  2.5610e-01],\n",
      "        [-2.8360e-01, -3.1444e-01, -4.7399e-02,  2.7099e-01,  8.9619e-02,\n",
      "         -3.0055e-01,  2.2872e-01, -7.8315e-02,  9.3770e-02,  2.6817e-01],\n",
      "        [ 4.7651e-02, -2.9772e-01,  2.0247e-01, -5.4960e-02,  1.5961e-01,\n",
      "          6.1880e-02, -2.3771e-01,  6.5888e-02, -1.6138e-01,  1.7747e-01],\n",
      "        [ 1.4950e-01, -6.1403e-02,  2.1193e-01, -2.8176e-02,  2.8928e-01,\n",
      "          2.5712e-01, -1.7311e-01, -9.4760e-02,  2.6333e-01,  1.3303e-01],\n",
      "        [ 8.3751e-02,  1.0196e-01,  2.4236e-01, -2.8374e-01,  2.5605e-01,\n",
      "         -5.2959e-03,  2.0665e-01,  1.9967e-01,  3.0329e-01,  1.0598e-01],\n",
      "        [-6.3877e-02,  2.5772e-01,  2.5156e-01,  1.8701e-01, -7.0978e-02,\n",
      "          1.7767e-02, -2.0862e-01,  1.0280e-01,  1.8155e-01,  3.3247e-02],\n",
      "        [ 6.9025e-02, -2.2359e-01,  6.5905e-02,  5.5041e-03,  1.7944e-01,\n",
      "         -2.5809e-01, -9.1008e-02,  5.1918e-02, -1.7995e-01,  2.4309e-01],\n",
      "        [-1.8006e-01,  1.6008e-01,  1.9764e-01,  2.1478e-01, -1.9893e-01,\n",
      "         -2.6157e-01,  2.4418e-01,  1.5392e-01,  1.9194e-01, -2.8563e-01],\n",
      "        [ 2.9911e-02,  9.0147e-02, -5.0622e-02,  8.1234e-02, -1.8946e-01,\n",
      "          3.9754e-02, -2.0552e-01,  6.7144e-02,  1.1881e-01, -1.9997e-01]],\n",
      "       requires_grad=True)\n",
      "Parameter containing:\n",
      "tensor([-0.0238,  0.2532,  0.0540,  0.0556, -0.0873,  0.0989, -0.2898,  0.2939,\n",
      "         0.3142, -0.1767], requires_grad=True)\n",
      "Parameter containing:\n",
      "tensor([[ 0.2907, -0.0055,  0.2190,  0.0655, -0.2860,  0.2403, -0.3046,  0.2081,\n",
      "         -0.1321, -0.2160],\n",
      "        [ 0.2962, -0.0444,  0.1249,  0.0699,  0.2683, -0.0361, -0.2674,  0.1458,\n",
      "         -0.2539, -0.1283],\n",
      "        [-0.2395, -0.2962,  0.0438,  0.2943, -0.2117, -0.1388,  0.2974,  0.1987,\n",
      "          0.2832, -0.0362],\n",
      "        [-0.2882,  0.0366,  0.0926,  0.1199, -0.0487, -0.3122, -0.2470,  0.2358,\n",
      "          0.0522,  0.0308],\n",
      "        [-0.2467, -0.1621, -0.2330,  0.0069, -0.0035,  0.0507,  0.1199,  0.2816,\n",
      "         -0.2277, -0.1406],\n",
      "        [-0.1612, -0.0410, -0.0111,  0.2603,  0.0211, -0.2241, -0.0484, -0.0073,\n",
      "         -0.0061,  0.2792],\n",
      "        [-0.2605,  0.0848, -0.1467, -0.1648, -0.1480,  0.2409, -0.1415,  0.2144,\n",
      "         -0.0023,  0.3035],\n",
      "        [ 0.2709,  0.1928, -0.0653,  0.3148,  0.1351,  0.0989,  0.1323,  0.2567,\n",
      "         -0.1037, -0.1143],\n",
      "        [ 0.2806, -0.0032,  0.0221, -0.2827,  0.2797, -0.1523, -0.3153,  0.0004,\n",
      "         -0.0827,  0.2744],\n",
      "        [ 0.3068,  0.2117,  0.2593, -0.1195, -0.2506,  0.0112,  0.0132, -0.3144,\n",
      "         -0.2954,  0.2842],\n",
      "        [-0.2034, -0.1954, -0.1127,  0.0441,  0.2887, -0.1314,  0.2839, -0.2635,\n",
      "          0.1736,  0.0233],\n",
      "        [ 0.3141,  0.1437,  0.1255, -0.3003,  0.2696, -0.0348,  0.0536,  0.1932,\n",
      "         -0.2679,  0.1276],\n",
      "        [ 0.2921, -0.0464, -0.0866, -0.2264, -0.0816,  0.2100, -0.3052, -0.1661,\n",
      "          0.0934, -0.0276],\n",
      "        [ 0.1148,  0.2145, -0.2924, -0.2124, -0.2564, -0.0745, -0.1766,  0.1537,\n",
      "         -0.0314,  0.0940],\n",
      "        [ 0.2648, -0.1505, -0.1518, -0.1132, -0.0158, -0.0621, -0.0208, -0.0815,\n",
      "         -0.1159,  0.1272]], requires_grad=True)\n",
      "Parameter containing:\n",
      "tensor([-0.2530, -0.2782,  0.0987, -0.1848, -0.1011, -0.1239,  0.0386, -0.2656,\n",
      "        -0.2343, -0.1086, -0.0990,  0.3042,  0.0908, -0.2724,  0.2248],\n",
      "       requires_grad=True)\n"
     ]
    }
   ],
   "source": [
    "for p  in model.parameters():\n",
    "  print(p)"
   ]
  },
  {
   "cell_type": "code",
   "execution_count": null,
   "metadata": {
    "colab": {
     "base_uri": "https://localhost:8080/",
     "height": 166
    },
    "executionInfo": {
     "elapsed": 832,
     "status": "error",
     "timestamp": 1683557105448,
     "user": {
      "displayName": "Pietro del Sorbo",
      "userId": "01555363494258854793"
     },
     "user_tz": -120
    },
    "id": "MDAgD-e20Fu8",
    "outputId": "2e920d48-9dcd-4406-ee47-379789541194"
   },
   "outputs": [
    {
     "ename": "RuntimeError",
     "evalue": "ignored",
     "output_type": "error",
     "traceback": [
      "\u001b[0;31m---------------------------------------------------------------------------\u001b[0m",
      "\u001b[0;31mRuntimeError\u001b[0m                              Traceback (most recent call last)",
      "\u001b[0;32m<ipython-input-31-c7dabb5c36c1>\u001b[0m in \u001b[0;36m<cell line: 1>\u001b[0;34m()\u001b[0m\n\u001b[0;32m----> 1\u001b[0;31m \u001b[0ma\u001b[0m \u001b[0;34m=\u001b[0m \u001b[0mt\u001b[0m\u001b[0;34m.\u001b[0m\u001b[0mrepeat\u001b[0m\u001b[0;34m(\u001b[0m\u001b[0;36m1\u001b[0m\u001b[0;34m,\u001b[0m\u001b[0;36m1\u001b[0m\u001b[0;34m)\u001b[0m\u001b[0;34m\u001b[0m\u001b[0;34m\u001b[0m\u001b[0m\n\u001b[0m",
      "\u001b[0;31mRuntimeError\u001b[0m: Number of dimensions of repeat dims can not be smaller than number of dimensions of tensor"
     ]
    }
   ],
   "source": [
    "a = t.repeat(1,1)"
   ]
  },
  {
   "cell_type": "code",
   "execution_count": null,
   "metadata": {
    "id": "Ono8rYuU0mXx"
   },
   "outputs": [],
   "source": []
  }
 ],
 "metadata": {
  "colab": {
   "authorship_tag": "ABX9TyP58AopI4WMOA/5hcxKbvA+",
   "mount_file_id": "1ydIO7_-px9zgZGiGcU3xKPibTEEpwrQj",
   "provenance": []
  },
  "kernelspec": {
   "display_name": "Python 3 (ipykernel)",
   "language": "python",
   "name": "python3"
  },
  "language_info": {
   "codemirror_mode": {
    "name": "ipython",
    "version": 3
   },
   "file_extension": ".py",
   "mimetype": "text/x-python",
   "name": "python",
   "nbconvert_exporter": "python",
   "pygments_lexer": "ipython3",
   "version": "3.7.16"
  }
 },
 "nbformat": 4,
 "nbformat_minor": 1
}
