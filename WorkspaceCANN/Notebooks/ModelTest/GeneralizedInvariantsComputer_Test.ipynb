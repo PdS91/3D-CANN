{
 "cells": [
  {
   "cell_type": "code",
   "execution_count": 29,
   "metadata": {
    "colab": {
     "base_uri": "https://localhost:8080/",
     "height": 184
    },
    "executionInfo": {
     "elapsed": 1282,
     "status": "error",
     "timestamp": 1683533913527,
     "user": {
      "displayName": "Pietro del Sorbo",
      "userId": "01555363494258854793"
     },
     "user_tz": -120
    },
    "id": "9G7O9jdkK4Pu",
    "outputId": "291937e4-e452-42ad-c0d2-64e7b9910e55"
   },
   "outputs": [
    {
     "ename": "FileNotFoundError",
     "evalue": "ignored",
     "output_type": "error",
     "traceback": [
      "\u001b[0;31m---------------------------------------------------------------------------\u001b[0m",
      "\u001b[0;31mFileNotFoundError\u001b[0m                         Traceback (most recent call last)",
      "\u001b[0;32m<ipython-input-29-b68bb3ef7547>\u001b[0m in \u001b[0;36m<cell line: 2>\u001b[0;34m()\u001b[0m\n\u001b[1;32m      1\u001b[0m \u001b[0;32mimport\u001b[0m \u001b[0mos\u001b[0m\u001b[0;34m\u001b[0m\u001b[0;34m\u001b[0m\u001b[0m\n\u001b[0;32m----> 2\u001b[0;31m \u001b[0mos\u001b[0m\u001b[0;34m.\u001b[0m\u001b[0mchdir\u001b[0m\u001b[0;34m(\u001b[0m\u001b[0;34m'drive/MyDrive/ColabNotebooks/CANN_Pietro/Test'\u001b[0m\u001b[0;34m)\u001b[0m\u001b[0;34m\u001b[0m\u001b[0;34m\u001b[0m\u001b[0m\n\u001b[0m",
      "\u001b[0;31mFileNotFoundError\u001b[0m: [Errno 2] No such file or directory: 'drive/MyDrive/ColabNotebooks/CANN_Pietro/Test'"
     ]
    }
   ],
   "source": [
    "import os\n",
    "os.chdir('drive/MyDrive/ColabNotebooks/CANN_Pietro/Test')"
   ]
  },
  {
   "cell_type": "code",
   "execution_count": 30,
   "metadata": {
    "executionInfo": {
     "elapsed": 30,
     "status": "ok",
     "timestamp": 1683533913533,
     "user": {
      "displayName": "Pietro del Sorbo",
      "userId": "01555363494258854793"
     },
     "user_tz": -120
    },
    "id": "JOl3bxpVLDOh"
   },
   "outputs": [],
   "source": [
    "import numpy as np\n",
    "import torch\n",
    "from torch import nn\n",
    "from torch.utils.data import DataLoader\n",
    "from torchvision import datasets\n",
    "from torchvision.transforms import ToTensor"
   ]
  },
  {
   "cell_type": "code",
   "execution_count": 180,
   "metadata": {
    "executionInfo": {
     "elapsed": 440,
     "status": "ok",
     "timestamp": 1683543200150,
     "user": {
      "displayName": "Pietro del Sorbo",
      "userId": "01555363494258854793"
     },
     "user_tz": -120
    },
    "id": "ATP45xXMLNPt"
   },
   "outputs": [],
   "source": [
    "\n",
    "class GeneralizedInvariantsComputer(torch.nn.Module):\n",
    "\n",
    "  def __init__(self, Vectorize=True, *args, **kwargs) -> None:\n",
    "      super(GeneralizedInvariantsComputer,self).__init__(*args, **kwargs)\n",
    "\n",
    "      self.Vectorize = Vectorize\n",
    "\n",
    "  def forward(self,Lgen_,C_):\n",
    "\n",
    "\n",
    "    if self.Vectorize == True:\n",
    "\n",
    "      IJgen_ = self.IJgen_Computation_Vec(Lgen_,C_)\n",
    "\n",
    "    else:\n",
    "\n",
    "      IJgen_ = self.IJgen_Computation(Lgen_,C_)\n",
    "\n",
    "\n",
    "    return IJgen_\n",
    "\n",
    "  def IJgen_Computation(self,Lgen_,C_):\n",
    "\n",
    "    # C_ --> deformation tensor [?,3,3]\n",
    "    # Lgen_ --> generalized structural tensor vector [?,R,3,3]\n",
    "\n",
    "    R = Lgen_.shape[1]\n",
    "    batchsize = Lgen_.shape[0]\n",
    "\n",
    "\n",
    "    IJgen_ = torch.zeros((batchsize,R,2))\n",
    "\n",
    "    for data_index,(Lgen_set,C) in enumerate(zip(Lgen_,C_)):\n",
    "\n",
    "      Cit = torch.transpose(torch.inverse(C),0,1)\n",
    "\n",
    "      detCCit = torch.det(torch.matmul(C,Cit))\n",
    "\n",
    "      for Lgen_index,Lgen in enumerate(Lgen_set):\n",
    "\n",
    "        IJgen_[data_index,Lgen_index,0] = torch.trace(torch.matmul(C,Lgen))\n",
    "\n",
    "        IJgen_[data_index,Lgen_index,1] = torch.trace(detCCit*Lgen)\n",
    "\n",
    "    return IJgen_\n",
    "\n",
    "  def IJgen_Computation_Vec(self,Lgen_,C_):\n",
    "\n",
    "    # C_ --> deformation tensor [?,3,3]\n",
    "    # Lgen_ --> generalized structural tensor vector [?,R,3,3]\n",
    "\n",
    "    Igen = lambda C,Lgen : torch.trace(torch.matmul(C,Lgen))\n",
    "    Jgen = lambda dC,Lgen : torch.trace(dC*Lgen)\n",
    "\n",
    "    def Compute_dC (C):\n",
    "      \n",
    "      Cit = torch.transpose(torch.inverse(C),0,1)\n",
    "\n",
    "      dC = torch.det(torch.matmul(C,Cit))\n",
    "\n",
    "      return dC\n",
    "\n",
    "    def Compute (Lgenset):\n",
    "\n",
    "      comp_dC = torch.vmap(Compute_dC)\n",
    "      dC_ = comp_dC(C_)\n",
    "\n",
    "      comp_Igen = torch.vmap(Igen)\n",
    "      comp_Jgen = torch.vmap(Jgen)\n",
    "\n",
    "      Igen_ = comp_Igen(C_,Lgenset)\n",
    "      Jgen_ = comp_Jgen(dC_,Lgenset)\n",
    "\n",
    "      return Igen_,Jgen_\n",
    "\n",
    "    vectorized = torch.vmap(Compute,in_dims=1)\n",
    "\n",
    "    I_,J_ = vectorized(Lgen_)\n",
    "\n",
    "    I_ = torch.transpose(I_,1,0)\n",
    "    J_ = torch.transpose(J_,1,0)\n",
    "\n",
    "    I_ = torch.unsqueeze(I_,2)\n",
    "    J_ = torch.unsqueeze(J_,2)\n",
    "\n",
    "    IJ_ = torch.concatenate((I_,J_),axis=2)\n",
    "\n",
    "    return IJ_\n",
    "\n"
   ]
  },
  {
   "cell_type": "code",
   "execution_count": 181,
   "metadata": {
    "executionInfo": {
     "elapsed": 14,
     "status": "ok",
     "timestamp": 1683543201382,
     "user": {
      "displayName": "Pietro del Sorbo",
      "userId": "01555363494258854793"
     },
     "user_tz": -120
    },
    "id": "NBWzD3u8raKP"
   },
   "outputs": [],
   "source": [
    "L = torch.rand((3,4,3,3))\n",
    "C = torch.rand((3,3,3))"
   ]
  },
  {
   "cell_type": "code",
   "execution_count": 182,
   "metadata": {
    "colab": {
     "base_uri": "https://localhost:8080/"
    },
    "executionInfo": {
     "elapsed": 10,
     "status": "ok",
     "timestamp": 1683543202419,
     "user": {
      "displayName": "Pietro del Sorbo",
      "userId": "01555363494258854793"
     },
     "user_tz": -120
    },
    "id": "8suT_H3dscKJ",
    "outputId": "64a65be8-097e-402b-c151-c9e715d0c615"
   },
   "outputs": [
    {
     "data": {
      "text/plain": [
       "tensor([[[1.8473, 1.0262],\n",
       "         [1.7485, 1.7148],\n",
       "         [1.8407, 1.3588],\n",
       "         [2.2728, 1.8567]],\n",
       "\n",
       "        [[1.2115, 1.7558],\n",
       "         [1.5901, 0.3308],\n",
       "         [1.4613, 0.7071],\n",
       "         [1.4755, 0.7973]],\n",
       "\n",
       "        [[1.7236, 1.2140],\n",
       "         [2.0223, 1.3852],\n",
       "         [1.6099, 1.7654],\n",
       "         [1.6063, 1.4779]]])"
      ]
     },
     "execution_count": 182,
     "metadata": {},
     "output_type": "execute_result"
    }
   ],
   "source": [
    "model = GeneralizedInvariantsComputer()\n",
    "model(L,C)"
   ]
  },
  {
   "cell_type": "code",
   "execution_count": 183,
   "metadata": {
    "colab": {
     "base_uri": "https://localhost:8080/"
    },
    "executionInfo": {
     "elapsed": 445,
     "status": "ok",
     "timestamp": 1683543206504,
     "user": {
      "displayName": "Pietro del Sorbo",
      "userId": "01555363494258854793"
     },
     "user_tz": -120
    },
    "id": "jgZ0ZeWa43oL",
    "outputId": "12a8ec01-3c5e-4821-c6bb-9e3cf5674b02"
   },
   "outputs": [
    {
     "data": {
      "text/plain": [
       "tensor([[[1.8473, 1.0262],\n",
       "         [1.7485, 1.7148],\n",
       "         [1.8407, 1.3588],\n",
       "         [2.2728, 1.8567]],\n",
       "\n",
       "        [[1.2115, 1.7558],\n",
       "         [1.5901, 0.3308],\n",
       "         [1.4613, 0.7071],\n",
       "         [1.4755, 0.7973]],\n",
       "\n",
       "        [[1.7236, 1.2140],\n",
       "         [2.0223, 1.3852],\n",
       "         [1.6099, 1.7654],\n",
       "         [1.6063, 1.4779]]])"
      ]
     },
     "execution_count": 183,
     "metadata": {},
     "output_type": "execute_result"
    }
   ],
   "source": [
    "model2 = GeneralizedInvariantsComputer(Vectorize=False)\n",
    "model2(L,C)"
   ]
  },
  {
   "cell_type": "code",
   "execution_count": 185,
   "metadata": {
    "colab": {
     "base_uri": "https://localhost:8080/"
    },
    "executionInfo": {
     "elapsed": 428,
     "status": "ok",
     "timestamp": 1683543318340,
     "user": {
      "displayName": "Pietro del Sorbo",
      "userId": "01555363494258854793"
     },
     "user_tz": -120
    },
    "id": "wyX2ANtGFbo-",
    "outputId": "d8e842c2-fa78-4e6d-d755-0ed55edf83df"
   },
   "outputs": [
    {
     "data": {
      "text/plain": [
       "tensor([[1.8473, 1.7485, 1.8407, 2.2728],\n",
       "        [1.2115, 1.5901, 1.4613, 1.4755],\n",
       "        [1.7236, 2.0223, 1.6099, 1.6063]])"
      ]
     },
     "execution_count": 185,
     "metadata": {},
     "output_type": "execute_result"
    }
   ],
   "source": [
    "model2(L,C)[:,:,0]"
   ]
  },
  {
   "cell_type": "code",
   "execution_count": 186,
   "metadata": {
    "colab": {
     "base_uri": "https://localhost:8080/"
    },
    "executionInfo": {
     "elapsed": 16,
     "status": "ok",
     "timestamp": 1683543319858,
     "user": {
      "displayName": "Pietro del Sorbo",
      "userId": "01555363494258854793"
     },
     "user_tz": -120
    },
    "id": "KUfXS_m1Z07u",
    "outputId": "95d7d711-0755-4caf-96b6-9c04a07c396b"
   },
   "outputs": [
    {
     "data": {
      "text/plain": [
       "tensor([[1.8473, 1.7485, 1.8407, 2.2728],\n",
       "        [1.2115, 1.5901, 1.4613, 1.4755],\n",
       "        [1.7236, 2.0223, 1.6099, 1.6063]])"
      ]
     },
     "execution_count": 186,
     "metadata": {},
     "output_type": "execute_result"
    }
   ],
   "source": [
    "model(L,C)[:,:,0]"
   ]
  },
  {
   "cell_type": "code",
   "execution_count": null,
   "metadata": {
    "id": "T9tNYohxh-yi"
   },
   "outputs": [],
   "source": [
    " "
   ]
  }
 ],
 "metadata": {
  "colab": {
   "authorship_tag": "ABX9TyPC6Cd/ueisNKtf8kryzbcb",
   "mount_file_id": "1NedzYvFkkFnTfVx67yKKljk9ZRpHwg4_",
   "provenance": [
    {
     "file_id": "1l70jTbwkbGhgmKLfcEuFDIIcaiiZT6kV",
     "timestamp": 1682955462772
    },
    {
     "file_id": "13yFaKYIDlV3LoUoj9LvmPNKyIm5R04fE",
     "timestamp": 1682869044905
    }
   ]
  },
  "kernelspec": {
   "display_name": "Python 3 (ipykernel)",
   "language": "python",
   "name": "python3"
  },
  "language_info": {
   "codemirror_mode": {
    "name": "ipython",
    "version": 3
   },
   "file_extension": ".py",
   "mimetype": "text/x-python",
   "name": "python",
   "nbconvert_exporter": "python",
   "pygments_lexer": "ipython3",
   "version": "3.7.16"
  }
 },
 "nbformat": 4,
 "nbformat_minor": 1
}
