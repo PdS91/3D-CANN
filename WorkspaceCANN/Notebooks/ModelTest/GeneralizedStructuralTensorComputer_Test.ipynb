{
 "cells": [
  {
   "cell_type": "code",
   "execution_count": 54,
   "metadata": {
    "colab": {
     "base_uri": "https://localhost:8080/",
     "height": 184
    },
    "executionInfo": {
     "elapsed": 253,
     "status": "error",
     "timestamp": 1683474454186,
     "user": {
      "displayName": "Pietro del Sorbo",
      "userId": "01555363494258854793"
     },
     "user_tz": -120
    },
    "id": "9G7O9jdkK4Pu",
    "outputId": "f1238672-c63c-4948-dda0-ac1ac25b73b3"
   },
   "outputs": [
    {
     "ename": "FileNotFoundError",
     "evalue": "ignored",
     "output_type": "error",
     "traceback": [
      "\u001b[0;31m---------------------------------------------------------------------------\u001b[0m",
      "\u001b[0;31mFileNotFoundError\u001b[0m                         Traceback (most recent call last)",
      "\u001b[0;32m<ipython-input-54-b68bb3ef7547>\u001b[0m in \u001b[0;36m<cell line: 2>\u001b[0;34m()\u001b[0m\n\u001b[1;32m      1\u001b[0m \u001b[0;32mimport\u001b[0m \u001b[0mos\u001b[0m\u001b[0;34m\u001b[0m\u001b[0;34m\u001b[0m\u001b[0m\n\u001b[0;32m----> 2\u001b[0;31m \u001b[0mos\u001b[0m\u001b[0;34m.\u001b[0m\u001b[0mchdir\u001b[0m\u001b[0;34m(\u001b[0m\u001b[0;34m'drive/MyDrive/ColabNotebooks/CANN_Pietro/Test'\u001b[0m\u001b[0;34m)\u001b[0m\u001b[0;34m\u001b[0m\u001b[0;34m\u001b[0m\u001b[0m\n\u001b[0m",
      "\u001b[0;31mFileNotFoundError\u001b[0m: [Errno 2] No such file or directory: 'drive/MyDrive/ColabNotebooks/CANN_Pietro/Test'"
     ]
    }
   ],
   "source": [
    "import os\n",
    "os.chdir('drive/MyDrive/ColabNotebooks/CANN_Pietro/Test')"
   ]
  },
  {
   "cell_type": "code",
   "execution_count": 55,
   "metadata": {
    "executionInfo": {
     "elapsed": 16,
     "status": "ok",
     "timestamp": 1683474456184,
     "user": {
      "displayName": "Pietro del Sorbo",
      "userId": "01555363494258854793"
     },
     "user_tz": -120
    },
    "id": "JOl3bxpVLDOh"
   },
   "outputs": [],
   "source": [
    "import numpy as np\n",
    "import torch\n",
    "from torch import nn\n",
    "from torch.utils.data import DataLoader\n",
    "from torchvision import datasets\n",
    "from torchvision.transforms import ToTensor"
   ]
  },
  {
   "cell_type": "code",
   "execution_count": 81,
   "metadata": {
    "executionInfo": {
     "elapsed": 427,
     "status": "ok",
     "timestamp": 1683479830891,
     "user": {
      "displayName": "Pietro del Sorbo",
      "userId": "01555363494258854793"
     },
     "user_tz": -120
    },
    "id": "ATP45xXMLNPt"
   },
   "outputs": [],
   "source": [
    "\n",
    "class GeneralizedStructuralTensorComputer(torch.nn.Module):\n",
    "\n",
    "  def __init__(self, Vectorize=True, *args, **kwargs) -> None:\n",
    "      super(GeneralizedStructuralTensorComputer,self).__init__(*args, **kwargs)\n",
    "\n",
    "      self.Vectorize = Vectorize\n",
    "\n",
    "  def forward(self,L_,w_):\n",
    "\n",
    "    if self.Vectorize == True:\n",
    "\n",
    "      Lgen_ = self.Lgen_Computation_Vec(L_,w_)\n",
    "\n",
    "    else:\n",
    "\n",
    "      Lgen_ = self.Lgen_Computation(L_,w_)\n",
    "\n",
    "\n",
    "    return Lgen_\n",
    "\n",
    "\n",
    "\n",
    "\n",
    "  def Lgen_Computation(self,L_,w_):\n",
    "\n",
    "    # w_ --> weight tensor [?,J+1,R]\n",
    "    # L_ --> structural tensor vector [?,J+1,3,3]\n",
    "    R = w_.shape[2]\n",
    "    J = L_.shape[1]\n",
    "    batchsize = L_.shape[0]\n",
    "\n",
    "\n",
    "    Lgen_ = torch.zeros((batchsize,R,3,3))\n",
    "\n",
    "    for data_index,(L,w) in enumerate(zip(L_,w_)):\n",
    "\n",
    "      Lgen_[data_index,:,:,:] = torch.tensordot(w,L,dims=([0],[0]))\n",
    "\n",
    "    return Lgen_\n",
    "\n",
    "  def Lgen_Computation_Vec(self,L_,w_):\n",
    "\n",
    "    # w_ --> weight tensor [?,J+1,R]\n",
    "    # L_ --> structural tensor vector [?,J+1,3,3]\n",
    "\n",
    "    customdot = lambda w,L : torch.tensordot(w,L,dims=([0],[0]))\n",
    "\n",
    "    vectorized = torch.vmap(customdot)\n",
    "    Lgen_ = vectorized(w_,L_)\n",
    "\n",
    "    return Lgen_"
   ]
  },
  {
   "cell_type": "code",
   "execution_count": 96,
   "metadata": {
    "executionInfo": {
     "elapsed": 366,
     "status": "ok",
     "timestamp": 1683479998748,
     "user": {
      "displayName": "Pietro del Sorbo",
      "userId": "01555363494258854793"
     },
     "user_tz": -120
    },
    "id": "H1XiV6oqAcl4"
   },
   "outputs": [],
   "source": [
    "L = torch.rand((1,3,3,3))\n",
    "w = torch.rand(1,3,3) "
   ]
  },
  {
   "cell_type": "code",
   "execution_count": 97,
   "metadata": {
    "executionInfo": {
     "elapsed": 367,
     "status": "ok",
     "timestamp": 1683480000984,
     "user": {
      "displayName": "Pietro del Sorbo",
      "userId": "01555363494258854793"
     },
     "user_tz": -120
    },
    "id": "hHmiTVh4Ao1X"
   },
   "outputs": [],
   "source": [
    "model = GeneralizedStructuralTensorComputer(Vectorize=False)\n",
    "model2 = GeneralizedStructuralTensorComputer()\n"
   ]
  },
  {
   "cell_type": "code",
   "execution_count": 98,
   "metadata": {
    "executionInfo": {
     "elapsed": 14,
     "status": "ok",
     "timestamp": 1683480002177,
     "user": {
      "displayName": "Pietro del Sorbo",
      "userId": "01555363494258854793"
     },
     "user_tz": -120
    },
    "id": "Qxgb5p-nvA1P"
   },
   "outputs": [],
   "source": [
    "Lgen = model(L,w)\n",
    "Lgen2 = model2(L,w)"
   ]
  },
  {
   "cell_type": "code",
   "execution_count": 99,
   "metadata": {
    "colab": {
     "base_uri": "https://localhost:8080/"
    },
    "executionInfo": {
     "elapsed": 14,
     "status": "ok",
     "timestamp": 1683480003454,
     "user": {
      "displayName": "Pietro del Sorbo",
      "userId": "01555363494258854793"
     },
     "user_tz": -120
    },
    "id": "tKotZy0svDdq",
    "outputId": "c837fbe6-66a6-4878-9f7b-988d2d27cebe"
   },
   "outputs": [
    {
     "data": {
      "text/plain": [
       "tensor([[[[ True,  True,  True],\n",
       "          [ True,  True, False],\n",
       "          [False,  True, False]],\n",
       "\n",
       "         [[ True,  True,  True],\n",
       "          [ True,  True,  True],\n",
       "          [ True,  True,  True]],\n",
       "\n",
       "         [[ True,  True,  True],\n",
       "          [ True,  True,  True],\n",
       "          [ True,  True,  True]]]])"
      ]
     },
     "execution_count": 99,
     "metadata": {},
     "output_type": "execute_result"
    }
   ],
   "source": [
    "Lgen == Lgen2"
   ]
  },
  {
   "cell_type": "code",
   "execution_count": 100,
   "metadata": {
    "colab": {
     "base_uri": "https://localhost:8080/"
    },
    "executionInfo": {
     "elapsed": 12,
     "status": "ok",
     "timestamp": 1683480005786,
     "user": {
      "displayName": "Pietro del Sorbo",
      "userId": "01555363494258854793"
     },
     "user_tz": -120
    },
    "id": "tpcVgOgXvL1y",
    "outputId": "52ca3e0e-b2ce-40a1-e36c-c01cbfed1165"
   },
   "outputs": [
    {
     "data": {
      "text/plain": [
       "tensor([[[[0.7153, 0.1709, 0.7541],\n",
       "          [0.6949, 0.3245, 0.6983],\n",
       "          [0.1542, 0.5755, 0.8370]],\n",
       "\n",
       "         [[0.7937, 0.0743, 0.6775],\n",
       "          [0.7786, 0.9306, 0.7846],\n",
       "          [0.4136, 0.0354, 0.2794]],\n",
       "\n",
       "         [[0.1867, 0.1243, 0.6713],\n",
       "          [0.7786, 0.7034, 0.3628],\n",
       "          [0.1347, 0.4476, 0.4295]]]])"
      ]
     },
     "execution_count": 100,
     "metadata": {},
     "output_type": "execute_result"
    }
   ],
   "source": [
    "L"
   ]
  },
  {
   "cell_type": "code",
   "execution_count": 101,
   "metadata": {
    "colab": {
     "base_uri": "https://localhost:8080/"
    },
    "executionInfo": {
     "elapsed": 290,
     "status": "ok",
     "timestamp": 1683480007744,
     "user": {
      "displayName": "Pietro del Sorbo",
      "userId": "01555363494258854793"
     },
     "user_tz": -120
    },
    "id": "Fbfva1KW25zc",
    "outputId": "7b54ddd0-b58b-42e1-fac7-95b73e08ec3b"
   },
   "outputs": [
    {
     "data": {
      "text/plain": [
       "tensor([[[0.6895, 0.7352, 0.8978],\n",
       "         [0.2045, 0.3047, 0.6993],\n",
       "         [0.4023, 0.4206, 0.9611]]])"
      ]
     },
     "execution_count": 101,
     "metadata": {},
     "output_type": "execute_result"
    }
   ],
   "source": [
    "w"
   ]
  },
  {
   "cell_type": "code",
   "execution_count": 102,
   "metadata": {
    "colab": {
     "base_uri": "https://localhost:8080/"
    },
    "executionInfo": {
     "elapsed": 313,
     "status": "ok",
     "timestamp": 1683480009687,
     "user": {
      "displayName": "Pietro del Sorbo",
      "userId": "01555363494258854793"
     },
     "user_tz": -120
    },
    "id": "gsGYdz545ma1",
    "outputId": "70b13e5e-7a52-44c7-ff7d-37ef7a90a988"
   },
   "outputs": [
    {
     "data": {
      "text/plain": [
       "tensor([[[[0.7306, 0.1831, 0.9286],\n",
       "          [0.9516, 0.6970, 0.7879],\n",
       "          [0.2451, 0.5841, 0.8071]],\n",
       "\n",
       "         [[0.8462, 0.2006, 1.0432],\n",
       "          [1.0756, 0.8180, 0.9051],\n",
       "          [0.2960, 0.6221, 0.8811]],\n",
       "\n",
       "         [[1.3767, 0.3248, 1.7960],\n",
       "          [1.9167, 1.6181, 1.5244],\n",
       "          [0.5571, 0.9716, 1.3596]]]])"
      ]
     },
     "execution_count": 102,
     "metadata": {},
     "output_type": "execute_result"
    }
   ],
   "source": [
    "Lgen"
   ]
  },
  {
   "cell_type": "code",
   "execution_count": 103,
   "metadata": {
    "colab": {
     "base_uri": "https://localhost:8080/"
    },
    "executionInfo": {
     "elapsed": 299,
     "status": "ok",
     "timestamp": 1683480014759,
     "user": {
      "displayName": "Pietro del Sorbo",
      "userId": "01555363494258854793"
     },
     "user_tz": -120
    },
    "id": "vvdTYdeGOZPj",
    "outputId": "a2790cb8-177c-4ae2-b65d-70861bd73912"
   },
   "outputs": [
    {
     "data": {
      "text/plain": [
       "tensor([[[[0.7306, 0.1831, 0.9286],\n",
       "          [0.9516, 0.6970, 0.7879],\n",
       "          [0.2451, 0.5841, 0.8071]],\n",
       "\n",
       "         [[0.8462, 0.2006, 1.0432],\n",
       "          [1.0756, 0.8180, 0.9051],\n",
       "          [0.2960, 0.6221, 0.8811]],\n",
       "\n",
       "         [[1.3767, 0.3248, 1.7960],\n",
       "          [1.9167, 1.6181, 1.5244],\n",
       "          [0.5571, 0.9716, 1.3596]]]])"
      ]
     },
     "execution_count": 103,
     "metadata": {},
     "output_type": "execute_result"
    }
   ],
   "source": [
    "Lgen2"
   ]
  },
  {
   "cell_type": "code",
   "execution_count": null,
   "metadata": {
    "id": "txzl5XJHOa64"
   },
   "outputs": [],
   "source": []
  }
 ],
 "metadata": {
  "colab": {
   "authorship_tag": "ABX9TyPjOhZeW6Sc0AO1eKM9j7bK",
   "mount_file_id": "1l70jTbwkbGhgmKLfcEuFDIIcaiiZT6kV",
   "provenance": [
    {
     "file_id": "13yFaKYIDlV3LoUoj9LvmPNKyIm5R04fE",
     "timestamp": 1682869044905
    }
   ]
  },
  "kernelspec": {
   "display_name": "Python 3 (ipykernel)",
   "language": "python",
   "name": "python3"
  },
  "language_info": {
   "codemirror_mode": {
    "name": "ipython",
    "version": 3
   },
   "file_extension": ".py",
   "mimetype": "text/x-python",
   "name": "python",
   "nbconvert_exporter": "python",
   "pygments_lexer": "ipython3",
   "version": "3.7.16"
  }
 },
 "nbformat": 4,
 "nbformat_minor": 1
}
